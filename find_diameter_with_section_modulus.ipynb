{
 "metadata": {
  "name": "find_diameter_with_section_modulus"
 },
 "nbformat": 3,
 "nbformat_minor": 0,
 "worksheets": [
  {
   "cells": [
    {
     "cell_type": "code",
     "collapsed": false,
     "input": [
      "moment = 88334000  # fatigue moment at midpoint in water level in Nm\n",
      "limiting_stress = 52.63 # 1.e7 cycles limiting fatigue stress in MPa\n",
      "minimum_section_modulus = moment / (limiting_stress) / 1.e6 # in m^3 - sorry for mixing units!\n",
      "\n",
      "minimum_section_modulus"
     ],
     "language": "python",
     "metadata": {},
     "outputs": [
      {
       "output_type": "pyout",
       "prompt_number": 59,
       "text": [
        "1.6783963518905567"
       ]
      }
     ],
     "prompt_number": 59
    },
    {
     "cell_type": "code",
     "collapsed": false,
     "input": [
      "desired_dt_ratio = 75\n",
      "\n",
      "coefficient = pi / 32 * (1 - (1 -  2 / desired_dt_ratio) ** 4)\n",
      "\n",
      "diameter = (minimum_section_modulus / coefficient) ** (1/3)\n",
      "thickness = diameter / desired_dt_ratio\n",
      "\n",
      "diameter, thickness # in metres"
     ],
     "language": "python",
     "metadata": {},
     "outputs": [
      {
       "output_type": "pyout",
       "prompt_number": 61,
       "text": [
        "(5.505013810223047, 0.07340018413630729)"
       ]
      }
     ],
     "prompt_number": 61
    },
    {
     "cell_type": "code",
     "collapsed": false,
     "input": [],
     "language": "python",
     "metadata": {},
     "outputs": []
    }
   ],
   "metadata": {}
  }
 ]
}