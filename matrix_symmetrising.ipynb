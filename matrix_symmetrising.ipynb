{
 "metadata": {
  "name": "matrix_symmetrising"
 },
 "nbformat": 3,
 "nbformat_minor": 0,
 "worksheets": [
  {
   "cells": [
    {
     "cell_type": "code",
     "collapsed": false,
     "input": [
      "import scipy.sparse as sparse\n",
      "import numpy\n",
      "import random\n",
      "\n",
      "size = 5\n",
      "non_sym_matrix = sparse.lil_matrix((size, size))\n",
      "\n",
      "for i in range(0,size):\n",
      "    for j in range(0,size):\n",
      "        if random.randint(0,10) > 2:\n",
      "            non_sym_matrix[i,j] = random.randint(0,5)"
     ],
     "language": "python",
     "metadata": {},
     "outputs": [],
     "prompt_number": 117
    },
    {
     "cell_type": "code",
     "collapsed": false,
     "input": [
      "def symmetrise(a):\n",
      "    low_tri = sparse.tril(a)\n",
      "    np_diag = numpy.diag(low_tri.diagonal())\n",
      "    sparse_diag = sparse.csr_matrix(np_diag)\n",
      "    #return a + a.T - sparse_diag\n",
      "    return low_tri + low_tri.T - numpy.diag(a.diagonal())"
     ],
     "language": "python",
     "metadata": {},
     "outputs": [],
     "prompt_number": 120
    },
    {
     "cell_type": "code",
     "collapsed": false,
     "input": [
      "print non_sym_matrix.todense()\n",
      "\n",
      "sym_matrix = symmetrise(non_sym_matrix)\n",
      "\n",
      "print '\\n', sym_matrix"
     ],
     "language": "python",
     "metadata": {},
     "outputs": [
      {
       "output_type": "stream",
       "stream": "stdout",
       "text": [
        "[[ 5.  3.  0.  1.  0.]\n",
        " [ 0.  0.  5.  5.  1.]\n",
        " [ 0.  1.  2.  1.  4.]\n",
        " [ 0.  0.  0.  0.  0.]\n",
        " [ 1.  0.  4.  4.  5.]]\n",
        "\n",
        "[[ 5.  0.  0.  0.  1.]\n",
        " [ 0.  0.  1.  0.  0.]\n",
        " [ 0.  1.  2.  0.  4.]\n",
        " [ 0.  0.  0.  0.  4.]\n",
        " [ 1.  0.  4.  4.  5.]]\n"
       ]
      }
     ],
     "prompt_number": 121
    },
    {
     "cell_type": "code",
     "collapsed": false,
     "input": [
      "print 'check consistency'\n",
      "for i in range(0, size):\n",
      "    for j in range(0, i):\n",
      "        print sym_matrix[i,j] == non_sym_matrix[i,j]"
     ],
     "language": "python",
     "metadata": {},
     "outputs": [
      {
       "output_type": "stream",
       "stream": "stdout",
       "text": [
        "check consistency\n",
        "True\n",
        "True\n",
        "True\n",
        "True\n",
        "True\n",
        "True\n",
        "True\n",
        "True\n",
        "True\n",
        "True\n"
       ]
      }
     ],
     "prompt_number": 122
    },
    {
     "cell_type": "code",
     "collapsed": false,
     "input": [
      "print 'check symmetry'\n",
      "for i in range(0, size):\n",
      "    for j in range(0, i):\n",
      "        print sym_matrix[i,j] == sym_matrix[j,i]"
     ],
     "language": "python",
     "metadata": {},
     "outputs": [
      {
       "output_type": "stream",
       "stream": "stdout",
       "text": [
        "check symmetry\n",
        "True\n",
        "True\n",
        "True\n",
        "True\n",
        "True\n",
        "True\n",
        "True\n",
        "True\n",
        "True\n",
        "True\n"
       ]
      }
     ],
     "prompt_number": 123
    },
    {
     "cell_type": "code",
     "collapsed": false,
     "input": [],
     "language": "python",
     "metadata": {},
     "outputs": []
    }
   ],
   "metadata": {}
  }
 ]
}