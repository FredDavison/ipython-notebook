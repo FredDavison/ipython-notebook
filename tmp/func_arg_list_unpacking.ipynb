{
 "metadata": {
  "name": "func_arg_list_unpacking"
 },
 "nbformat": 3,
 "nbformat_minor": 0,
 "worksheets": [
  {
   "cells": [
    {
     "cell_type": "code",
     "collapsed": false,
     "input": [
      "def dummy(arg1, arg2, arg3, optional_arg=3):\n",
      "    print arg1, arg2, arg3, optional_arg"
     ],
     "language": "python",
     "metadata": {},
     "outputs": [],
     "prompt_number": 7
    },
    {
     "cell_type": "code",
     "collapsed": false,
     "input": [
      "arg_dict = {'arg1':1, 'arg3':3, 'arg2':3, 'optional_arg':5}\n",
      "arg_list = (1, 3, 3, 5)"
     ],
     "language": "python",
     "metadata": {},
     "outputs": [],
     "prompt_number": 16
    },
    {
     "cell_type": "code",
     "collapsed": false,
     "input": [
      "dummy(**arg_dict)\n",
      "dummy(*arg_list)\n"
     ],
     "language": "python",
     "metadata": {},
     "outputs": [
      {
       "output_type": "stream",
       "stream": "stdout",
       "text": [
        "1 3 3 5\n",
        "1 3 3 5\n"
       ]
      }
     ],
     "prompt_number": 17
    },
    {
     "cell_type": "code",
     "collapsed": false,
     "input": [],
     "language": "python",
     "metadata": {},
     "outputs": []
    }
   ],
   "metadata": {}
  }
 ]
}